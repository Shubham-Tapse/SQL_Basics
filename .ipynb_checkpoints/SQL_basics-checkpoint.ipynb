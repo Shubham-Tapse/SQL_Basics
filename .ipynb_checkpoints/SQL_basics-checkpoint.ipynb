{
 "cells": [
  {
   "cell_type": "markdown",
   "id": "b5182497-75c0-4584-8a9f-d334bfc5c7e9",
   "metadata": {},
   "source": [
    "## SQL Basics Assignment"
   ]
  },
  {
   "cell_type": "markdown",
   "id": "0a807a54-ba05-4c1a-a02f-f02edc4042f5",
   "metadata": {},
   "source": [
    "Q1.Create a table called employees with the following structure:\n",
    "\n",
    " .emp_id (integer, should not be NULL and should be a primary key)\n",
    " \n",
    " .emp_name (text, should not be NULL)\n",
    " \n",
    " .age (integer, should have a check constraint to ensure the age is at least 18)\n",
    " \n",
    " .email (text, should be unique for each employee)\n",
    " \n",
    " .salary (decimal, with a default value of 30,000).\n",
    " \n",
    " .Write the SQL query to create the above table with all constraints"
   ]
  },
  {
   "cell_type": "markdown",
   "id": "edc59567-9a4f-4348-ad9d-20a6aefb40b0",
   "metadata": {},
   "source": [
    "Ans. CREATE TABLE employees (\n",
    "\n",
    "    emp_id INTEGER NOT NULL PRIMARY KEY,\n",
    "    emp_name TEXT NOT NULL,\n",
    "    age INTEGER CHECK (age >= 18),\n",
    "    email TEXT UNIQUE,\n",
    "    salary DECIMAL DEFAULT 30000\n",
    ");"
   ]
  },
  {
   "cell_type": "code",
   "execution_count": null,
   "id": "53b34da5-b9e4-4b30-a19d-57c4a505bd1f",
   "metadata": {},
   "outputs": [],
   "source": []
  },
  {
   "cell_type": "markdown",
   "id": "133c9641-a7c4-45df-a03a-01f2594277a9",
   "metadata": {},
   "source": [
    "Q2.Explain the purpose of constraints and how they help maintain data integrity in a database. Provide \n",
    "examples of common types of constraints."
   ]
  },
  {
   "cell_type": "markdown",
   "id": "2d00140b-6e94-4d3c-a1a7-5ffa208ba318",
   "metadata": {},
   "source": [
    "Ans. Constraints are rules enforced on data in a database to ensure accuracy, consistency, and reliability. They help maintain data integrity by restricting the type of data that can be entered into tables. Constraints prevent invalid data entry and ensure relationships between tables are preserved.\n",
    "\n",
    "Types of Data Integrity Ensured by Constraints:\n",
    "\n",
    "1. Entity Integrity: Ensures unique identification of records, typically through primary keys.\n",
    "\n",
    "2. Domain Integrity: Ensures data falls within a valid range or set of values.\n",
    "\n",
    "\n",
    "3. Referential Integrity: Maintains consistent relationships between tables.\n",
    "\n",
    "4. User-Defined Integrity: Enforces business-specific rules.\n",
    "\n",
    "\n",
    "Benefits of Constraints:\n",
    "\n",
    "1. Enforce Data Accuracy: Constraints prevent invalid data, ensuring higher quality.\n",
    "\n",
    "Example: A CHECK constraint ensures a valid range of data, such as price > 0.\n",
    "\n",
    "2. Ensure Consistency: Constraints like FOREIGN KEY maintain relationships between tables.\n",
    "\n",
    "Example: A FOREIGN KEY ensures an order references a valid customer.\n",
    "\n",
    "3. Simplify Maintenance: Built-in rules reduce the need for custom application logic for data validation.\n",
    "\n",
    "Example: NOT NULL prevents missing required information.\n"
   ]
  },
  {
   "cell_type": "code",
   "execution_count": null,
   "id": "9a8dd238-4fe3-4c54-b36b-5facdabec36b",
   "metadata": {},
   "outputs": [],
   "source": []
  },
  {
   "cell_type": "markdown",
   "id": "aed6e521-c20c-4210-a7ee-4c8068414b26",
   "metadata": {},
   "source": [
    "Q3.Why would you apply the NOT NULL constraint to a column? Can a primary key contain NULL values? Justify \n",
    "your answer."
   ]
  },
  {
   "cell_type": "markdown",
   "id": "da373f28-a847-4c3d-b913-57daa66b31b3",
   "metadata": {},
   "source": [
    "Ans. The NOT NULL constraint ensures that a column cannot have NULL values. This is applied to maintain entity integrity and to ensure that every record has meaningful and complete data in that column.\n",
    "\n",
    "No, a primary key cannot contain NULL values. This is because a primary key uniquely identifies each record in a table, and NULL represents an unknown or undefined value, which violates the purpose of uniqueness and identification.\n",
    "\n",
    "Justification:\n",
    "Uniqueness Requirement: Each record must be uniquely identifiable, and allowing NULL would mean the key is ambiguous or partially missing.\n",
    "\n",
    "Example: If emp_id (primary key) is NULL for two employees, they cannot be uniquely identified.\n",
    "Entity Integrity Rule: The primary key is essential for the entity integrity of the database. NULL would disrupt the integrity since it doesn't represent a valid or usable value for identification.\n",
    "\n",
    "SQL Standard: By definition, a primary key enforces NOT NULL and UNIQUE constraints. This means that SQL does not allow a primary key to contain NULL."
   ]
  },
  {
   "cell_type": "code",
   "execution_count": null,
   "id": "55030d50-4cc8-43c9-b949-b2ed1c1806ff",
   "metadata": {},
   "outputs": [],
   "source": []
  },
  {
   "cell_type": "markdown",
   "id": "95c23133-5d9c-4230-b929-cb4dea7caecc",
   "metadata": {},
   "source": [
    "Q4. Explain the steps and SQL commands used to add or remove constraints on an existing table. Provide an \n",
    "example for both adding and removing a constraint."
   ]
  },
  {
   "cell_type": "markdown",
   "id": "9587f2d6-525a-46c0-91da-4d50cea20cc1",
   "metadata": {},
   "source": [
    "Ans. Steps to Add a Constraint\n",
    "\n",
    "1. Determine the Type of Constraint: Decide which type of constraint (NOT NULL, UNIQUE, CHECK, PRIMARY KEY, FOREIGN KEY, etc.) needs to be added.\n",
    "\n",
    "2. Check Existing Data: Ensure that the existing data in the table satisfies the new constraint. If it doesn’t, update the data to comply with the constraint.\n",
    "\n",
    "3. Use ALTER TABLE: Use the ALTER TABLE command to add the constraint.\n",
    "\n",
    "\n",
    "Example: Add a CHECK Constraint\n",
    "\n",
    "Suppose you have an employees table, and you want to ensure that the salary column is always greater than or equal to 30,000.\n",
    "\n",
    "ALTER TABLE employees\n",
    "ADD CONSTRAINT chk_salary CHECK (salary >= 30000);\n",
    "\n",
    "\n",
    "Steps to Remove a Constraint\n",
    "\n",
    "1. Identify the Constraint Name: Each constraint has a unique name, either explicitly defined during creation or system-generated. Use the database system catalogs (e.g., information_schema in PostgreSQL) to find the constraint name if not known.\n",
    "\n",
    "2. Use ALTER TABLE: Use the ALTER TABLE command with DROP CONSTRAINT to remove the constraint.\n",
    "\n",
    "\n",
    "Example: Remove the CHECK Constraint\n",
    "\n",
    "To remove the chk_salary constraint from the employees table:\n",
    "\n",
    "ALTER TABLE employees\n",
    "DROP CONSTRAINT chk_salary;\n"
   ]
  },
  {
   "cell_type": "code",
   "execution_count": null,
   "id": "4b929faa-e5f7-46ad-835f-62a24124e96a",
   "metadata": {},
   "outputs": [],
   "source": []
  },
  {
   "cell_type": "markdown",
   "id": "39e68ef3-c379-41a3-b933-999503f16b47",
   "metadata": {},
   "source": [
    "Q5. Explain the consequences of attempting to insert, update, or delete data in a way that violates constraints. \n",
    "Provide an example of an error message that might occur when violating a constraint."
   ]
  },
  {
   "cell_type": "markdown",
   "id": "5736f797-c6d7-41f6-8c42-e3dc89ba2cac",
   "metadata": {},
   "source": [
    "Ans. Consequences of Violating Constraints in a Database\n",
    "\n",
    "When attempting to insert, update, or delete data in a way that violates constraints, the database system will reject the operation and return an error. This prevents the database from containing invalid, inconsistent, or incomplete data, thereby maintaining data integrity.\n",
    "\n",
    "Common Scenarios of Constraint Violations and Consequences\n",
    "\n",
    "1. Violating a NOT NULL Constraint\n",
    "\n",
    "Scenario: Attempting to insert or update a column that has a NOT NULL constraint with a NULL value.\n",
    "Consequence: The operation fails because the column cannot have NULL.\n",
    "\n",
    "2. Violating a UNIQUE Constraint\n",
    "\n",
    "Scenario: Attempting to insert a duplicate value into a column with a UNIQUE constraint.\n",
    "Consequence: The operation is rejected to prevent duplicate entries.\n",
    "\n",
    "3. Violating a CHECK Constraint\n",
    "\n",
    "Scenario: Attempting to insert or update a value that fails the CHECK condition.\n",
    "Consequence: The database blocks the operation.\n",
    "\n",
    "Consequences Summary\n",
    "\n",
    "1. Immediate Rejection of the Query:\n",
    "The database does not execute the operation.\n",
    "\n",
    "2. Error Messages:\n",
    "The database system generates error messages indicating the type of constraint violated and the specific data causing the issue.\n",
    "\n",
    "3. Data Integrity Preserved:\n",
    "The database remains in a consistent and valid state.\n",
    "\n",
    "\n",
    "Example Scenario\n",
    "\n",
    "Table Definition:\n",
    "\n",
    "CREATE TABLE employees (\n",
    "\n",
    "    emp_id INTEGER PRIMARY KEY,\n",
    "    emp_name TEXT NOT NULL,\n",
    "    email TEXT UNIQUE,\n",
    "    age INTEGER CHECK (age >= 18)\n",
    ");\n",
    "\n",
    "\n"
   ]
  },
  {
   "cell_type": "code",
   "execution_count": null,
   "id": "ab1068b9-db1b-4bd2-8cf1-cd3530a04627",
   "metadata": {},
   "outputs": [],
   "source": []
  },
  {
   "cell_type": "markdown",
   "id": "54eb22e3-e552-4faa-86aa-3e4f1076ed21",
   "metadata": {},
   "source": [
    "Q6. You created a products table without constraints as follows:\n",
    "\n",
    " CREATE TABLE products (\n",
    " \n",
    " product_id INT,\n",
    " \n",
    " product_name VARCHAR(50),\n",
    " \n",
    " price DECIMAL(10, 2));\n",
    " \n",
    " Now, you realise that\n",
    " \n",
    " The product_id should be a primary key\n",
    " \n",
    " The price should have a default value of 50.00"
   ]
  },
  {
   "cell_type": "markdown",
   "id": "de70738a-eaa2-4803-83da-7dcb2e09842d",
   "metadata": {},
   "source": [
    "Ans. \n",
    "To modify the products table and add the required constraints, you can use the ALTER TABLE command. Here’s how to do it:\n",
    "\n",
    "Steps to Add the Constraints :\n",
    "\n",
    "1. Add the Primary Key Constraint to product_id: Ensure the product_id column is unique and non-NULL to satisfy the requirements of a primary key.\n",
    "\n",
    "2. Add the Default Value Constraint to price: Ensure that the price column has a default value of 50.00.\n",
    "\n",
    "\n",
    "SQL Commands to Add Constraints\n",
    "\n",
    "1. Add Primary Key Constraint to product_id:\n",
    "\n",
    "ALTER TABLE products\n",
    "\n",
    "ADD CONSTRAINT pk_product_id PRIMARY KEY (product_id);\n",
    "\n",
    "2. Add Default Value for price:\n",
    "\n",
    "ALTER TABLE products\n",
    "\n",
    "ALTER COLUMN price SET DEFAULT 50.00;\n",
    "\n",
    "\n"
   ]
  },
  {
   "cell_type": "code",
   "execution_count": null,
   "id": "d35ab70e-c873-4c5f-b326-4523566b65ca",
   "metadata": {},
   "outputs": [],
   "source": []
  },
  {
   "cell_type": "markdown",
   "id": "3eda9ab2-3521-4db3-91ab-fc3e2f3a3d43",
   "metadata": {},
   "source": [
    "Q7. <img src = 'Q7.png' style = \"width:800px; height:800px\">"
   ]
  },
  {
   "cell_type": "markdown",
   "id": "70f51c8c-22de-4965-a6d9-b341148b36fd",
   "metadata": {},
   "source": [
    "Ans. \n",
    "   SELECT \n",
    "   \n",
    "    Students.student_name, \n",
    "    \n",
    "    Classes.class_name\n",
    "    \n",
    "FROM \n",
    "\n",
    "    Students\n",
    "    \n",
    "INNER JOIN \n",
    "\n",
    "    Classes\n",
    "    \n",
    "ON \n",
    "    Students.class_id = Classes.class_id;\n"
   ]
  },
  {
   "cell_type": "code",
   "execution_count": null,
   "id": "58b2e21b-03a3-4db1-96ca-a610b0d44bd2",
   "metadata": {},
   "outputs": [],
   "source": []
  },
  {
   "cell_type": "markdown",
   "id": "5603761c-42a7-4314-ab58-2de3cd0b9ad2",
   "metadata": {},
   "source": [
    "Q8. <img src = \"Q8.png\">"
   ]
  },
  {
   "cell_type": "markdown",
   "id": "808f2965-7ddf-40a7-9c77-0f414e33cef7",
   "metadata": {},
   "source": [
    "Ans. \n",
    "\n",
    "SELECT \n",
    "\n",
    "    Orders.order_id, \n",
    "    \n",
    "    Customers.customer_name, \n",
    "    \n",
    "    Products.product_name\n",
    "    \n",
    "FROM \n",
    "\n",
    "    Products\n",
    "    \n",
    "LEFT JOIN \n",
    "\n",
    "    Orders\n",
    "    \n",
    "ON \n",
    "    Products.order_id = Orders.order_id\n",
    "    \n",
    "LEFT JOIN \n",
    "\n",
    "    Customers\n",
    "ON \n",
    "    Orders.customer_id = Customers.customer_id;\n"
   ]
  },
  {
   "cell_type": "code",
   "execution_count": null,
   "id": "4293070e-9b80-4a85-a337-0ae913f40508",
   "metadata": {},
   "outputs": [],
   "source": []
  },
  {
   "cell_type": "markdown",
   "id": "289e4ed9-1adf-42a9-8304-83c713f32a8d",
   "metadata": {},
   "source": [
    "Q9. <img src = \"Q9.png\">\n"
   ]
  },
  {
   "cell_type": "markdown",
   "id": "bb3b8b28-916f-4a7b-bae5-cea84fe00997",
   "metadata": {},
   "source": [
    "Ans. \n",
    "  SELECT \n",
    "  \n",
    "    p.product_name,\n",
    "    \n",
    "    SUM(s.amount) AS total_sales\n",
    "    \n",
    "FROM \n",
    "\n",
    "    Sales s\n",
    "    \n",
    "INNER JOIN \n",
    "\n",
    "    Products p\n",
    "    \n",
    "ON \n",
    "\n",
    "    s.product_id = p.product_id\n",
    "    \n",
    "GROUP BY \n",
    "\n",
    "    p.product_name;\n"
   ]
  },
  {
   "cell_type": "code",
   "execution_count": null,
   "id": "64c1949e-c8c4-4458-8308-637560db38b0",
   "metadata": {},
   "outputs": [],
   "source": []
  },
  {
   "cell_type": "markdown",
   "id": "08011c8d-d76d-4031-a4f8-1ad261885411",
   "metadata": {},
   "source": [
    "Q10 <img src = \"Q10.png\">"
   ]
  },
  {
   "cell_type": "markdown",
   "id": "c88e5a16-85a1-46eb-a689-ef5cc581f6cd",
   "metadata": {},
   "source": [
    "Ans. \n",
    "   \n",
    "   SELECT \n",
    "   \n",
    "    o.order_id,\n",
    "    \n",
    "    c.customer_name,\n",
    "    \n",
    "    od.quantity\n",
    "    \n",
    "FROM \n",
    "\n",
    "    Orders o\n",
    "    \n",
    "INNER JOIN \n",
    "\n",
    "    Customers c\n",
    "    \n",
    "ON\n",
    "\n",
    "    o.customer_id = c.customer_id\n",
    "    \n",
    "INNER JOIN \n",
    "\n",
    "    Order_Details od\n",
    "    \n",
    "ON \n",
    "\n",
    "    o.order_id = od.order_id;\n"
   ]
  },
  {
   "cell_type": "code",
   "execution_count": null,
   "id": "6e3b5185-a405-44fc-b886-e24c69f27489",
   "metadata": {},
   "outputs": [],
   "source": []
  },
  {
   "cell_type": "markdown",
   "id": "c8434671-1c8f-4888-be37-b7e4a9fa45fc",
   "metadata": {},
   "source": [
    "## SQL Commands"
   ]
  },
  {
   "cell_type": "markdown",
   "id": "78fc37d9-b54a-42fb-a037-0c94eef5d086",
   "metadata": {},
   "source": [
    "Q1-Identify the primary keys and foreign keys in maven movies db. Discuss the differences\n",
    "\n",
    "Ans.\n",
    "\n",
    "1. actor Table:\n",
    "\n",
    "Primary Key: actor_id\n",
    "\n",
    "2. film Table:\n",
    "\n",
    "Primary Key: film_id\n",
    "\n",
    "3. film_actor Table:\n",
    "\n",
    "Primary Key: Composite key (actor_id, film_id)\n",
    "\n",
    "Foreign Keys:\n",
    "\n",
    "actor_id references actor(actor_id)\n",
    "\n",
    "film_id references film(film_id)\n",
    "\n",
    "4. category Table:\n",
    "\n",
    "Primary Key: category_id\n",
    "\n",
    "5. film_category Table:\n",
    "\n",
    "Primary Key: Composite key (film_id, category_id)\n",
    "\n",
    "Foreign Keys:\n",
    "\n",
    "film_id references film(film_id)\n",
    "\n",
    "category_id references category(category_id)\n",
    "\n",
    "6. customer Table:\n",
    "\n",
    "Primary Key: customer_id\n",
    "\n",
    "Foreign Key: store_id references store(store_id)\n",
    "\n",
    "7. store Table:\n",
    "\n",
    "Primary Key: store_id\n",
    "\n",
    "Foreign Key: manager_staff_id references staff(staff_id)\n",
    "\n",
    "8. staff Table:\n",
    "\n",
    "Primary Key: staff_id\n",
    "\n",
    "Foreign Key: store_id references store(store_id)\n",
    "\n",
    "9. rental Table:\n",
    "\n",
    "Primary Key: rental_id\n",
    "\n",
    "Foreign Keys:\n",
    "\n",
    "inventory_id references inventory(inventory_id)\n",
    "\n",
    "customer_id references customer(customer_id)\n",
    "\n",
    "staff_id references staff(staff_id)\n",
    "\n",
    "10. inventory Table:\n",
    "\n",
    "Primary Key: inventory_id\n",
    "\n",
    "Foreign Keys:\n",
    "\n",
    "film_id references film(film_id)\n",
    "\n",
    "store_id references store(store_id)\n",
    "\n",
    "11. payment Table:\n",
    "\n",
    "Primary Key: payment_id\n",
    "\n",
    "Foreign Keys:\n",
    "\n",
    "customer_id references customer(customer_id)\n",
    "\n",
    "staff_id references staff(staff_id)\n",
    "\n",
    "rental_id references rental(rental_id)\n",
    "\n",
    "12. address Table:\n",
    "\n",
    "Primary Key: address_id\n",
    "\n",
    "Foreign Key: city_id references city(city_id)\n",
    "\n",
    "13. city Table:\n",
    "\n",
    "Primary Key: city_id\n",
    "\n",
    "Foreign Key: country_id references country(country_id)\n",
    "\n",
    "14. country Table:\n",
    "\n",
    "Primary Key: country_id\n",
    "\n",
    "15. language Table:\n",
    "\n",
    "Primary Key: language_id\n",
    "\n",
    "16. film_text Table:\n",
    "\n",
    "Primary Key: film_id\n",
    "\n",
    "Differences Between Primary and Foreign Keys:\n",
    "\n",
    "Primary Key:\n",
    "\n",
    "1. Uniquely identifies each record in a table.\n",
    "\n",
    "2. Cannot contain NULL values.\n",
    "\n",
    "3. Each table can have only one primary key, which may consist of single or multiple columns (composite key).\n",
    "\n",
    "Foreign Key:\n",
    "\n",
    "1. Establishes a link between records in two tables.\n",
    "\n",
    "2. Can contain NULL values unless specified otherwise.\n",
    "\n",
    "3. A table can have multiple foreign keys, each linking to a primary key in another table.\n",
    "\n",
    "These keys are fundamental in maintaining the relational integrity of the Maven Movies database, ensuring that relationships between tables are consistent and that data remains accurate."
   ]
  },
  {
   "cell_type": "code",
   "execution_count": null,
   "id": "482b2ffb-4584-4a07-ada4-f2da03370f35",
   "metadata": {},
   "outputs": [],
   "source": []
  },
  {
   "cell_type": "markdown",
   "id": "578de584-ebf4-4b8f-8958-e808e48e567d",
   "metadata": {},
   "source": [
    "Q2- List all details of actors"
   ]
  },
  {
   "cell_type": "markdown",
   "id": "b94cc0c7-bc65-4d90-b58c-f9ca1609c5cb",
   "metadata": {},
   "source": [
    "Ans.The query will retrieve all rows and columns from the actor table, which might include columns like:\n",
    "\n",
    "actor_id (Primary Key)\n",
    "\n",
    "first_name\n",
    "\n",
    "last_name\n",
    "\n",
    "last_update (or other metadata, depending on the schema)"
   ]
  },
  {
   "cell_type": "code",
   "execution_count": null,
   "id": "b6c95b32-c602-4805-ad8d-0b6a5a541bf1",
   "metadata": {},
   "outputs": [],
   "source": []
  },
  {
   "cell_type": "markdown",
   "id": "b1fb6268-4988-4d71-959e-17fa83b73343",
   "metadata": {},
   "source": [
    "Q3-List all customer information from DB."
   ]
  },
  {
   "cell_type": "markdown",
   "id": "f1234685-1df3-4f14-a66f-8dfadb2bd125",
   "metadata": {},
   "source": [
    "Ans. \n",
    "To list all customer information from the Maven Movies database, use the following SQL query:\n",
    "\n",
    "customer_id (Primary Key)\n",
    "\n",
    "first_name\n",
    "\n",
    "last_name\n",
    "\n",
    "email\n",
    "\n",
    "address_id (Foreign Key to the address table)\n",
    "\n",
    "active (Indicating if the customer is active)\n",
    "\n",
    "create_date\n",
    "\n",
    "last_update"
   ]
  },
  {
   "cell_type": "code",
   "execution_count": null,
   "id": "4c2bff63-8374-41b5-bf1f-e4df51a5dd26",
   "metadata": {},
   "outputs": [],
   "source": []
  },
  {
   "cell_type": "markdown",
   "id": "22583056-30c1-4fc1-8f59-f2a46486a1ad",
   "metadata": {},
   "source": [
    "Q4 -List different countries."
   ]
  },
  {
   "cell_type": "markdown",
   "id": "f1fd4234-56a5-43ac-98a8-309eca0dd1f5",
   "metadata": {},
   "source": [
    "Ans. SELECT DISTINCT country FROM country;\n"
   ]
  },
  {
   "cell_type": "code",
   "execution_count": null,
   "id": "d0773465-4aaa-4db4-a8b0-3d589a66dc09",
   "metadata": {},
   "outputs": [],
   "source": []
  },
  {
   "cell_type": "markdown",
   "id": "770fa98a-6bae-414e-b444-b918e4dfcb7b",
   "metadata": {},
   "source": [
    "Q5 -Display all active customers."
   ]
  },
  {
   "cell_type": "markdown",
   "id": "e25151db-ef8d-4577-b8c4-c295f8584fe8",
   "metadata": {},
   "source": [
    "Ans. SELECT * \n",
    "FROM customer \n",
    "WHERE active = 1;\n"
   ]
  },
  {
   "cell_type": "code",
   "execution_count": null,
   "id": "82978249-7118-46c1-bdbf-1b2af880d456",
   "metadata": {},
   "outputs": [],
   "source": []
  },
  {
   "cell_type": "markdown",
   "id": "eddbcb3a-ea08-4f4b-870a-460f7f065d06",
   "metadata": {},
   "source": [
    "Q6. List of all rental IDs for customer with ID 1."
   ]
  },
  {
   "cell_type": "markdown",
   "id": "3ad52377-f558-4d66-8dbe-046c6b4c72c0",
   "metadata": {},
   "source": [
    "Ans. \n",
    "SELECT rental_id\n",
    "\n",
    "FROM rental\n",
    "\n",
    "WHERE customer_id = 1;\n"
   ]
  },
  {
   "cell_type": "code",
   "execution_count": null,
   "id": "2f8e7ad8-c76f-4521-90b8-135b40ab666f",
   "metadata": {},
   "outputs": [],
   "source": []
  },
  {
   "cell_type": "markdown",
   "id": "24c3f5dd-e869-4487-a439-03295c805d7c",
   "metadata": {},
   "source": [
    "Q7 Display all the films whose rental duration is greater than 5 ."
   ]
  },
  {
   "cell_type": "markdown",
   "id": "99797418-5e00-4030-99c4-42b3f7a39c4a",
   "metadata": {},
   "source": [
    "Ans.\n",
    "SELECT title\n",
    "\n",
    "FROM film\n",
    "\n",
    "WHERE rental_duration > 5;\n"
   ]
  },
  {
   "cell_type": "code",
   "execution_count": null,
   "id": "1572c2b9-1118-4225-b143-da68b7aff9ab",
   "metadata": {},
   "outputs": [],
   "source": []
  },
  {
   "cell_type": "code",
   "execution_count": 1,
   "id": "250f35ac-345a-49cd-9387-d1f8c6862810",
   "metadata": {},
   "outputs": [],
   "source": [
    "#Q8  List the total number of films whose replacement cost is greater than $15  and less than  $20."
   ]
  },
  {
   "cell_type": "markdown",
   "id": "94d242b4-973e-45ba-a4c1-416777409d25",
   "metadata": {},
   "source": [
    "Ans. \n",
    "SELECT COUNT(*) AS total_films\n",
    "\n",
    "FROM film\n",
    "\n",
    "WHERE replacement_cost > 15 AND replacement_cost < 20;\n"
   ]
  },
  {
   "cell_type": "code",
   "execution_count": null,
   "id": "0dd0960a-a310-4da7-b896-d361796febbf",
   "metadata": {},
   "outputs": [],
   "source": []
  },
  {
   "cell_type": "markdown",
   "id": "0c88fb04-bc75-42f5-96f5-4a9fcc0f9c22",
   "metadata": {},
   "source": [
    "Q9 Display the count of unique first names of actors."
   ]
  },
  {
   "cell_type": "markdown",
   "id": "4f94805c-aaf6-42be-a4a4-98971e4ece3a",
   "metadata": {},
   "source": [
    "Ans. \n",
    "\n",
    "SELECT COUNT(DISTINCT first_name) AS unique_first_names\n",
    "\n",
    "FROM actor;\n"
   ]
  },
  {
   "cell_type": "code",
   "execution_count": null,
   "id": "abcb7eeb-f968-4da9-81d1-41f9be4f6a7a",
   "metadata": {},
   "outputs": [],
   "source": []
  },
  {
   "cell_type": "markdown",
   "id": "145a5ca6-1adf-4e74-a36f-69889dae28ae",
   "metadata": {},
   "source": [
    "Q10.  Display the first 10 records from the customer table ."
   ]
  },
  {
   "cell_type": "markdown",
   "id": "f9eed4a3-77df-468c-abc9-b00159413e9e",
   "metadata": {},
   "source": [
    "Ans. \n",
    "SELECT *\n",
    "\n",
    "FROM customer\n",
    "\n",
    "LIMIT 10;\n"
   ]
  },
  {
   "cell_type": "code",
   "execution_count": null,
   "id": "02b3145c-6df0-400e-9426-a37126ec8f84",
   "metadata": {},
   "outputs": [],
   "source": []
  },
  {
   "cell_type": "markdown",
   "id": "f16c9ec8-93da-4c67-8a29-16d1bdf33ad1",
   "metadata": {},
   "source": [
    "Q11 Display the first 3 records from the customer table whose first name starts with ‘b’."
   ]
  },
  {
   "cell_type": "markdown",
   "id": "70361eb6-e32b-4980-b56d-d1c39926e022",
   "metadata": {},
   "source": [
    "Ans. \n",
    "SELECT *\n",
    "\n",
    "FROM customer\n",
    "\n",
    "WHERE first_name LIKE 'B%'\n",
    "\n",
    "LIMIT 3;\n"
   ]
  },
  {
   "cell_type": "code",
   "execution_count": null,
   "id": "b4c78aec-b71a-42b8-83e6-312dc5b2cbb7",
   "metadata": {},
   "outputs": [],
   "source": []
  },
  {
   "cell_type": "markdown",
   "id": "7268f9ee-c005-4bc0-b1c3-bb7a14184e6f",
   "metadata": {},
   "source": [
    "Q12 Display the names of the first 5 movies which are rated as ‘G’."
   ]
  },
  {
   "cell_type": "markdown",
   "id": "ea18c702-a3da-4c32-80ed-d47ec8d2dc84",
   "metadata": {},
   "source": [
    "Ans.\n",
    "SELECT title\n",
    "\n",
    "FROM film\n",
    "\n",
    "WHERE rating = 'G'\n",
    "\n",
    "LIMIT 5;\n"
   ]
  },
  {
   "cell_type": "markdown",
   "id": "ec0abaea-b140-42e2-b206-c7537c5166eb",
   "metadata": {},
   "source": []
  },
  {
   "cell_type": "markdown",
   "id": "cfdcf9c5-f257-44b2-b73d-3067455901ca",
   "metadata": {},
   "source": [
    "Q13 Find all customers whose first name starts with \"a\"."
   ]
  },
  {
   "cell_type": "markdown",
   "id": "2c617077-87b7-4a17-a852-af8cbd32c424",
   "metadata": {},
   "source": [
    "Ans. \n",
    "SELECT * FROM customers\n",
    "\n",
    "WHERE first_name LIKE 'A%';\n"
   ]
  },
  {
   "cell_type": "code",
   "execution_count": null,
   "id": "45cd45ff-28ab-4202-97c8-841a92d5f269",
   "metadata": {},
   "outputs": [],
   "source": []
  },
  {
   "cell_type": "markdown",
   "id": "a0f8526f-dc5b-4cc7-aa3e-3230d41bc8f8",
   "metadata": {},
   "source": [
    "Q14 Find all customers whose first name ends with \"a\"."
   ]
  },
  {
   "cell_type": "markdown",
   "id": "90f47c21-1996-4fef-a93b-347fe757d110",
   "metadata": {},
   "source": [
    "Ans. \n",
    "SELECT * FROM customers\n",
    "\n",
    "WHERE first_name LIKE '%a';\n"
   ]
  },
  {
   "cell_type": "code",
   "execution_count": null,
   "id": "a3b5b8ce-c2a7-4454-bb3c-27e00ae4dfc5",
   "metadata": {},
   "outputs": [],
   "source": []
  },
  {
   "cell_type": "markdown",
   "id": "8acc8326-02df-4153-8f63-d3a9bb67b81b",
   "metadata": {},
   "source": [
    "Q15 Display the list of first 4 cities which start and end with ‘a’ ."
   ]
  },
  {
   "cell_type": "markdown",
   "id": "aa918edb-90d9-4b10-8cd2-fc3cd588313d",
   "metadata": {},
   "source": [
    "Ans\n",
    "\n",
    "SELECT city \n",
    "\n",
    "FROM cities\n",
    "\n",
    "WHERE city LIKE 'A%A'\n",
    "\n",
    "LIMIT 4;\n"
   ]
  },
  {
   "cell_type": "code",
   "execution_count": null,
   "id": "69c8b2eb-800f-4f84-b03b-05795adf0320",
   "metadata": {},
   "outputs": [],
   "source": []
  },
  {
   "cell_type": "markdown",
   "id": "b7452484-6394-4d2a-bb9e-5aeee828d7b4",
   "metadata": {},
   "source": [
    "Q16 Find all customers whose first name have \"NI\" in any position."
   ]
  },
  {
   "cell_type": "markdown",
   "id": "ccf3b711-f66f-48b3-b0a9-a38a617c4f76",
   "metadata": {},
   "source": [
    "Ans \n",
    "\n",
    "SELECT * FROM customers\n",
    "\n",
    "WHERE first_name LIKE '%NI%';\n"
   ]
  },
  {
   "cell_type": "code",
   "execution_count": null,
   "id": "fb6da36e-b2ca-4ec0-8962-248ee9a2cf1d",
   "metadata": {},
   "outputs": [],
   "source": []
  },
  {
   "cell_type": "markdown",
   "id": "4ce64b35-344c-4d20-bc41-0d6e430e016b",
   "metadata": {},
   "source": [
    "Q17  Find all customers whose first name have \"r\" in the second position ."
   ]
  },
  {
   "cell_type": "markdown",
   "id": "a6dbecf1-5d4d-4ee3-a9ce-239b6415dc3c",
   "metadata": {},
   "source": [
    "Ans\n",
    "\n",
    "SELECT * FROM customers\n",
    "\n",
    "WHERE first_name LIKE '_r%';\n"
   ]
  },
  {
   "cell_type": "code",
   "execution_count": null,
   "id": "f5786cb4-d1a0-4a36-b14b-ef4f3ee236eb",
   "metadata": {},
   "outputs": [],
   "source": []
  },
  {
   "cell_type": "markdown",
   "id": "dbdd8020-9bc1-44f8-b581-1d3e9a22cad7",
   "metadata": {},
   "source": [
    "Q18 Find all customers whose first name starts with \"a\" and are at least 5 characters in length."
   ]
  },
  {
   "cell_type": "markdown",
   "id": "3027814a-9222-4a67-aa90-8569d38b8d93",
   "metadata": {},
   "source": [
    "Ans \n",
    "\n",
    "SELECT * FROM customers\n",
    "\n",
    "WHERE first_name LIKE 'A%' \n",
    "\n",
    "AND LENGTH(first_name) >= 5;\n"
   ]
  },
  {
   "cell_type": "code",
   "execution_count": null,
   "id": "13d45e42-8a61-422a-ab88-43ee933dba19",
   "metadata": {},
   "outputs": [],
   "source": []
  },
  {
   "cell_type": "markdown",
   "id": "7afd579c-6585-4591-8e73-42a0cd7309c3",
   "metadata": {},
   "source": [
    "Q19 Find all customers whose first name starts with \"a\" and ends with \"o\"."
   ]
  },
  {
   "cell_type": "markdown",
   "id": "2b35d74f-1bf8-4e7a-92d8-3d3bb42ee884",
   "metadata": {},
   "source": [
    "Ans \n",
    "\n",
    "SELECT * FROM customers\n",
    "\n",
    "WHERE first_name LIKE 'A%o';\n"
   ]
  },
  {
   "cell_type": "code",
   "execution_count": null,
   "id": "d55ce502-155c-4a59-9a92-ab927985bcf2",
   "metadata": {},
   "outputs": [],
   "source": []
  },
  {
   "cell_type": "markdown",
   "id": "74c30ab6-adaf-4fd9-98cb-8627be7fcc80",
   "metadata": {},
   "source": [
    "Q20 - Get the films with pg and pg-13 rating using IN operator."
   ]
  },
  {
   "cell_type": "markdown",
   "id": "8a3e2018-37e8-4956-b521-a470db5db0b1",
   "metadata": {},
   "source": [
    "Ans. \n",
    "\n",
    "SELECT * FROM films\n",
    "\n",
    "WHERE rating IN ('PG', 'PG-13');\n"
   ]
  },
  {
   "cell_type": "code",
   "execution_count": null,
   "id": "ae32c8a9-677a-4b07-b73a-47f9fb3f979a",
   "metadata": {},
   "outputs": [],
   "source": []
  },
  {
   "cell_type": "markdown",
   "id": "0e0c23b2-91d5-440c-b951-9ad2cbdcd119",
   "metadata": {},
   "source": [
    "Q21  Get the films with length between 50 to 100 using between operator"
   ]
  },
  {
   "cell_type": "markdown",
   "id": "f9788665-5942-4f30-92e7-efc7fb80bb1a",
   "metadata": {},
   "source": [
    "Ans \n",
    "\n",
    "SELECT * FROM films\n",
    "\n",
    "WHERE length BETWEEN 50 AND 100;\n"
   ]
  },
  {
   "cell_type": "markdown",
   "id": "41e41b17-6f28-4ae7-9217-8303be5f5c7a",
   "metadata": {},
   "source": []
  },
  {
   "cell_type": "markdown",
   "id": "00c86637-aa09-4d5d-a59d-f75fda5a1e87",
   "metadata": {},
   "source": [
    "Q22  Get the top 50 actors using limit operator."
   ]
  },
  {
   "cell_type": "markdown",
   "id": "791a5f40-b156-4609-a2c9-c591557b4d40",
   "metadata": {},
   "source": [
    "Ans. \n",
    "\n",
    " SELECT * FROM actors\n",
    " \n",
    "LIMIT 50;\n"
   ]
  },
  {
   "cell_type": "code",
   "execution_count": null,
   "id": "54610736-9984-4f5d-af48-c2c32807d582",
   "metadata": {},
   "outputs": [],
   "source": []
  },
  {
   "cell_type": "markdown",
   "id": "f7747075-9a09-4df7-8398-5eb21c9369b0",
   "metadata": {},
   "source": [
    "Q23 Get the distinct film ids from inventory table."
   ]
  },
  {
   "cell_type": "markdown",
   "id": "43c37efd-3a0e-4785-9ad8-0a0316ed70c8",
   "metadata": {},
   "source": [
    "Ans. \n",
    "\n",
    "SELECT DISTINCT film_id\n",
    "\n",
    "FROM inventory;\n"
   ]
  },
  {
   "cell_type": "code",
   "execution_count": null,
   "id": "5a360cba-b49a-43e1-b63a-1521729a761a",
   "metadata": {},
   "outputs": [],
   "source": []
  },
  {
   "cell_type": "markdown",
   "id": "67f83d2c-6718-4413-841e-821a93e7a1dc",
   "metadata": {},
   "source": [
    "## Function  Basic Aggregate Functions:"
   ]
  },
  {
   "cell_type": "code",
   "execution_count": null,
   "id": "a89707fb-917b-464b-b105-8e7f21db5651",
   "metadata": {},
   "outputs": [],
   "source": []
  },
  {
   "cell_type": "markdown",
   "id": "b756f6fb-177b-4281-befb-d3848feda429",
   "metadata": {},
   "source": [
    " Question 1:\n",
    " Retrieve the total number of rentals made in the Sakila database.\n",
    " Hint: Use the COUNT() function"
   ]
  },
  {
   "cell_type": "markdown",
   "id": "f869e189-1476-4b35-b026-6ad4911e0f0a",
   "metadata": {},
   "source": [
    "Ans.   \n",
    "\n",
    "SELECT COUNT(*) AS total_rentals\n",
    "\n",
    "FROM rental;\n"
   ]
  },
  {
   "cell_type": "markdown",
   "id": "94a17924-c09d-4d27-a862-bc630e3edce6",
   "metadata": {},
   "source": []
  },
  {
   "cell_type": "markdown",
   "id": "af833543-53a4-45d0-a318-37e0df1628a6",
   "metadata": {},
   "source": [
    " Question 2:\n",
    " Find the average rental duration (in days) of movies rented from the Sakila database.\n",
    " Hint: Utilize the AVG() function."
   ]
  },
  {
   "cell_type": "markdown",
   "id": "ff2045a2-8535-4d4a-bd1a-ba65231d1993",
   "metadata": {},
   "source": [
    "Ans. \n",
    "\n",
    "SELECT AVG(rental_duration) AS average_rental_duration\n",
    "\n",
    "FROM film;\n"
   ]
  },
  {
   "cell_type": "code",
   "execution_count": null,
   "id": "846e08a0-5f82-475d-a65d-3294faec89d6",
   "metadata": {},
   "outputs": [],
   "source": []
  },
  {
   "cell_type": "markdown",
   "id": "c404867f-566b-40bf-8451-0bfb2d212c5f",
   "metadata": {},
   "source": [
    " String Functions:\n",
    " Question 3:\n",
    " Display the first name and last name of customers in uppercase.\n",
    " Hint: Use the UPPER () function."
   ]
  },
  {
   "cell_type": "markdown",
   "id": "077067ee-ca98-4bb3-8950-e3d22abfe543",
   "metadata": {},
   "source": [
    "Ans. \n",
    "\n",
    "SELECT UPPER(first_name) AS first_name_upper,\n",
    "\n",
    "       UPPER(last_name) AS last_name_upper\n",
    "       \n",
    "FROM customer;\n"
   ]
  },
  {
   "cell_type": "code",
   "execution_count": null,
   "id": "51d1821d-0c03-4891-8266-b0aba9536f2c",
   "metadata": {},
   "outputs": [],
   "source": []
  },
  {
   "cell_type": "markdown",
   "id": "a6475197-6d72-4bef-b9d8-de8ac58f0bef",
   "metadata": {},
   "source": [
    " Question 4:\n",
    " Extract the month from the rental date and display it alongside the rental ID.\n",
    " Hint: Employ the MONTH() function."
   ]
  },
  {
   "cell_type": "markdown",
   "id": "f204d7c1-aefc-48e3-97f7-d3592078ffa7",
   "metadata": {},
   "source": [
    "Ans. \n",
    "\n",
    "SELECT rental_id, MONTH(rental_date) AS rental_month\n",
    "\n",
    "FROM rental;\n",
    "\n"
   ]
  },
  {
   "cell_type": "code",
   "execution_count": null,
   "id": "9639027e-ce7c-4ebf-ac49-dbc6c7f56b36",
   "metadata": {},
   "outputs": [],
   "source": []
  },
  {
   "cell_type": "markdown",
   "id": "fb355728-294e-4681-ab1a-982858bc91a4",
   "metadata": {},
   "source": [
    " GROUP BY:\n",
    " \n",
    " Question 5:\n",
    " Retrieve the count of rentals for each customer (display customer ID and the count of rentals).\n",
    " Hint: Use COUNT () in conjunction with GROUP BY"
   ]
  },
  {
   "cell_type": "markdown",
   "id": "305295ff-6fe4-414f-ad1f-002fd210ba75",
   "metadata": {},
   "source": [
    "Ans. \n",
    "\n",
    "SELECT customer_id, COUNT(*) AS rental_count\n",
    "\n",
    "FROM rental\n",
    "\n",
    "GROUP BY customer_id;\n"
   ]
  },
  {
   "cell_type": "code",
   "execution_count": null,
   "id": "47194537-b8cf-426f-b8ea-793f44be85c8",
   "metadata": {},
   "outputs": [],
   "source": []
  },
  {
   "cell_type": "markdown",
   "id": "7650a651-179f-4a30-898c-2058c436eaf1",
   "metadata": {},
   "source": [
    " Question 6:\n",
    " Find the total revenue generated by each store.\n",
    " Hint: Combine SUM() and GROUP BY."
   ]
  },
  {
   "cell_type": "markdown",
   "id": "00c4fcee-c376-4a92-a9bd-4fe41595a6bb",
   "metadata": {},
   "source": [
    "Ans. \n",
    "\n",
    "SELECT store_id, SUM(amount) AS total_revenue\n",
    "\n",
    "FROM payment\n",
    "\n",
    "GROUP BY store_id;\n"
   ]
  },
  {
   "cell_type": "code",
   "execution_count": null,
   "id": "5a419f9f-915f-4660-bde7-09766c8ef7f8",
   "metadata": {},
   "outputs": [],
   "source": []
  },
  {
   "cell_type": "markdown",
   "id": "6342c8c5-705f-400b-803a-edbd87ef3f6f",
   "metadata": {},
   "source": [
    " Question 7:\n",
    " Determine the total number of rentals for each category of movies.\n",
    " Hint: JOIN film_category, film, and rental tables, then use COUNT () and GROUP BY."
   ]
  },
  {
   "cell_type": "markdown",
   "id": "516c73c9-78d1-4c79-aa6e-558f59c2f186",
   "metadata": {},
   "source": [
    "Ans. \n",
    "\n",
    "SELECT c.name AS category_name, COUNT(*) AS rental_count\n",
    "\n",
    "FROM rental r\n",
    "\n",
    "JOIN inventory i ON r.inventory_id = i.inventory_id\n",
    "\n",
    "JOIN film_category fc ON i.film_id = fc.film_id\n",
    "\n",
    "JOIN category c ON fc.category_id = c.category_id\n",
    "\n",
    "GROUP BY c.name;\n",
    "\n"
   ]
  },
  {
   "cell_type": "code",
   "execution_count": null,
   "id": "e05cd080-6245-4017-83cc-b03a1d70bc86",
   "metadata": {},
   "outputs": [],
   "source": []
  },
  {
   "cell_type": "markdown",
   "id": "d0c6b279-4fb4-4f64-a272-1c3036390384",
   "metadata": {},
   "source": [
    "Question 8:\n",
    " Find the average rental rate of movies in each language.\n",
    " Hint: JOIN film and language tables, then use AVG () and GROUP BY.\n"
   ]
  },
  {
   "cell_type": "markdown",
   "id": "eb4af9d1-744c-4105-96a3-76ba98e20303",
   "metadata": {},
   "source": [
    "Ans. \n",
    "\n",
    "SELECT l.name AS language_name, AVG(f.rental_rate) AS average_rental_rate\n",
    "\n",
    "FROM film f\n",
    "\n",
    "JOIN language l ON f.language_id = l.language_id\n",
    "\n",
    "GROUP BY l.name;\n"
   ]
  },
  {
   "cell_type": "code",
   "execution_count": null,
   "id": "118f4257-5fb9-4fb3-afa7-7550a3d491c8",
   "metadata": {},
   "outputs": [],
   "source": []
  },
  {
   "cell_type": "markdown",
   "id": "2e544697-77b7-45e0-b713-19cc3913bb82",
   "metadata": {},
   "source": [
    "## Joins"
   ]
  },
  {
   "cell_type": "markdown",
   "id": "a992a588-0935-4949-afcb-7c2048d00f17",
   "metadata": {},
   "source": [
    " Questions 9 -\n",
    " Display the title of the movie, customer s first name, and last name who rented it.\n",
    " Hint: Use JOIN between the film, inventory, rental, and customer tables."
   ]
  },
  {
   "cell_type": "markdown",
   "id": "85cde483-7450-4d05-ba26-edae0f401e3c",
   "metadata": {},
   "source": [
    "Ans. \n",
    "\n",
    "SELECT f.title AS movie_title, c.first_name, c.last_name\n",
    "\n",
    "FROM rental r\n",
    "\n",
    "JOIN inventory i ON r.inventory_id = i.inventory_id\n",
    "\n",
    "JOIN film f ON i.film_id = f.film_id\n",
    "\n",
    "JOIN customer c ON r.customer_id = c.customer_id;\n"
   ]
  },
  {
   "cell_type": "code",
   "execution_count": null,
   "id": "fdf21ef6-6e61-439c-8d3d-94ec1facc730",
   "metadata": {},
   "outputs": [],
   "source": []
  },
  {
   "cell_type": "markdown",
   "id": "691880c9-6603-4715-bcf9-91b2b9fd90e3",
   "metadata": {},
   "source": [
    " Question 10:\n",
    " Retrieve the names of all actors who have appeared in the film \"Gone with the Wind.\"\n",
    " Hint: Use JOIN between the film actor, film, and actor tables"
   ]
  },
  {
   "cell_type": "markdown",
   "id": "53a558e7-2629-46d1-bcb1-04bb73286ee3",
   "metadata": {},
   "source": [
    "Ans.\n",
    "\n",
    "SELECT a.first_name, a.last_name\n",
    "\n",
    "FROM actor a\n",
    "\n",
    "JOIN film_actor fa ON a.actor_id = fa.actor_id\n",
    "\n",
    "JOIN film f ON fa.film_id = f.film_id\n",
    "\n",
    "WHERE f.title = 'Gone with the Wind';\n"
   ]
  },
  {
   "cell_type": "code",
   "execution_count": null,
   "id": "46ef6aa1-7a04-4908-9f6b-5d7ae9622c8e",
   "metadata": {},
   "outputs": [],
   "source": []
  },
  {
   "cell_type": "markdown",
   "id": "24d0c10a-1925-4397-b02d-268574f407e4",
   "metadata": {},
   "source": [
    " Question 11:\n",
    " Retrieve the customer names along with the total amount they've spent on rentals.\n",
    " Hint: JOIN customer, payment, and rental tables, then use SUM() and GROUP BY."
   ]
  },
  {
   "cell_type": "markdown",
   "id": "7607b9fd-e2c5-4304-82e9-c2cb00b779eb",
   "metadata": {},
   "source": [
    "Ans. \n",
    "\n",
    "SELECT c.first_name, c.last_name, SUM(p.amount) AS total_spent\n",
    "\n",
    "FROM customer c\n",
    "\n",
    "JOIN payment p ON c.customer_id = p.customer_id\n",
    "\n",
    "JOIN rental r ON p.rental_id = r.rental_id\n",
    "\n",
    "GROUP BY c.customer_id;\n"
   ]
  },
  {
   "cell_type": "markdown",
   "id": "bffad33f-8d89-4c12-8895-5723d6e957e5",
   "metadata": {},
   "source": []
  },
  {
   "cell_type": "markdown",
   "id": "59e22bc6-f7f7-4a0f-91c8-f92888d996b3",
   "metadata": {},
   "source": [
    " Question 12:\n",
    " List the titles of movies rented by each customer in a particular city (e.g., 'London').\n",
    " Hint: JOIN customer, address, city, rental, inventory, and film tables, then use GROUP BY."
   ]
  },
  {
   "cell_type": "markdown",
   "id": "4f79bb9a-f991-48d8-b158-036170a05be4",
   "metadata": {},
   "source": [
    "Ans.\n",
    "\n",
    "SELECT c.first_name, c.last_name, f.title AS movie_title\n",
    "\n",
    "FROM customer c\n",
    "\n",
    "JOIN address a ON c.address_id = a.address_id\n",
    "\n",
    "JOIN city ci ON a.city_id = ci.city_id\n",
    "\n",
    "JOIN rental r ON c.customer_id = r.customer_id\n",
    "\n",
    "JOIN inventory i ON r.inventory_id = i.inventory_id\n",
    "\n",
    "JOIN film f ON i.film_id = f.film_id\n",
    "\n",
    "WHERE ci.city = 'London';\n"
   ]
  },
  {
   "cell_type": "code",
   "execution_count": null,
   "id": "0b321807-94ad-42b5-bfe9-3661af8bd382",
   "metadata": {},
   "outputs": [],
   "source": []
  },
  {
   "cell_type": "markdown",
   "id": "5ab4d2b6-f2cb-4b09-8bb1-f96e6c03bc4c",
   "metadata": {},
   "source": [
    "##  Advanced Joins and GROUP BY:"
   ]
  },
  {
   "cell_type": "markdown",
   "id": "eea5551a-ce68-49c2-9333-eae844c014e3",
   "metadata": {},
   "source": [
    " Question 13:\n",
    " Display the top 5 rented movies along with the number of times they've been rented.\n",
    " Hint: JOIN film, inventory, and rental tables, then use COUNT () and GROUP BY, and limit the results."
   ]
  },
  {
   "cell_type": "markdown",
   "id": "dbfd6889-e7c0-4327-8163-7f3c5d71b81e",
   "metadata": {},
   "source": [
    "Ans. \n",
    "\n",
    "SELECT f.title, COUNT(*) AS rental_count\n",
    "\n",
    "FROM rental r\n",
    "\n",
    "JOIN inventory i ON r.inventory_id = i.inventory_id\n",
    "\n",
    "JOIN film f ON i.film_id = f.film_id\n",
    "\n",
    "GROUP BY f.title\n",
    "\n",
    "ORDER BY rental_count DESC\n",
    "\n",
    "LIMIT 5;\n"
   ]
  },
  {
   "cell_type": "code",
   "execution_count": null,
   "id": "a75b9375-ecd3-4d3c-9ae2-f4003da62662",
   "metadata": {},
   "outputs": [],
   "source": []
  },
  {
   "cell_type": "markdown",
   "id": "6c83e14c-e975-4db5-84ba-81a517ffba05",
   "metadata": {},
   "source": [
    " Question 14:\n",
    " Determine the customers who have rented movies from both stores (store ID 1 and store ID 2).\n",
    " Hint: Use JOINS with rental, inventory, and customer tables and consider COUNT() and GROUP BY.\n"
   ]
  },
  {
   "cell_type": "markdown",
   "id": "18205cf0-59f7-46ca-8a6f-d20d4fc2690b",
   "metadata": {},
   "source": [
    "Ans.\n",
    "\n",
    "SELECT c.customer_id, c.first_name, c.last_name\n",
    "\n",
    "FROM rental r\n",
    "\n",
    "JOIN inventory i ON r.inventory_id = i.inventory_id\n",
    "\n",
    "JOIN customer c ON r.customer_id = c.customer_id\n",
    "\n",
    "WHERE i.store_id IN (1, 2)\n",
    "\n",
    "GROUP BY c.customer_id, c.first_name, c.last_name\n",
    "\n",
    "HAVING COUNT(DISTINCT i.store_id) = 2;\n"
   ]
  },
  {
   "cell_type": "code",
   "execution_count": null,
   "id": "3489db53-19c9-481c-b5a4-c03b2f2e2c40",
   "metadata": {},
   "outputs": [],
   "source": []
  },
  {
   "cell_type": "markdown",
   "id": "d1598ff0-7ff2-4cc1-9ac1-6c68fb82b2c7",
   "metadata": {},
   "source": [
    "## Windows Function:"
   ]
  },
  {
   "cell_type": "markdown",
   "id": "58d41a5f-8554-4d09-b386-8b5e46bfe857",
   "metadata": {},
   "source": [
    " Q1. Rank the customers based on the total amount they've spent on rentals."
   ]
  },
  {
   "cell_type": "markdown",
   "id": "37577914-768d-4995-b7f9-84abe75552b1",
   "metadata": {},
   "source": [
    "Ans\n",
    "\n",
    "SELECT \n",
    "\n",
    "    customer_id,\n",
    "    customer_name,\n",
    "    SUM(amount_spent) AS total_spent,\n",
    "    RANK() OVER (ORDER BY SUM(amount_spent) DESC) AS rank\n",
    "    \n",
    "FROM \n",
    "\n",
    "    rentals\n",
    "    \n",
    "GROUP BY \n",
    "\n",
    "    customer_id, customer_name\n",
    "    \n",
    "ORDER BY \n",
    "\n",
    "    rank;\n"
   ]
  },
  {
   "cell_type": "code",
   "execution_count": null,
   "id": "b3069f5d-f11b-44c5-910d-69bb1cc460a6",
   "metadata": {},
   "outputs": [],
   "source": []
  },
  {
   "cell_type": "markdown",
   "id": "94fb9a0a-9ef0-46b3-a431-3abc6eb65778",
   "metadata": {},
   "source": [
    "Q2 Calculate the cumulative revenue generated by each film over time."
   ]
  },
  {
   "cell_type": "markdown",
   "id": "b859923c-b83b-492c-aa40-8ea8d04b6a25",
   "metadata": {},
   "source": [
    "Ans. \n",
    "\n",
    "SELECT \n",
    "\n",
    "    film_id,\n",
    "    rental_date,\n",
    "    rental_amount,\n",
    "    SUM(rental_amount) OVER (PARTITION BY film_id ORDER BY rental_date) AS cumulative_revenue\n",
    "    \n",
    "FROM \n",
    "\n",
    "    rentals\n",
    "    \n",
    "ORDER BY \n",
    "\n",
    "    film_id, rental_date;\n"
   ]
  },
  {
   "cell_type": "code",
   "execution_count": null,
   "id": "1cde193b-86e4-4df8-8871-c6af8ce2d663",
   "metadata": {},
   "outputs": [],
   "source": []
  },
  {
   "cell_type": "markdown",
   "id": "e0bd1dc9-895a-4ec7-a747-79ae9a04c3e1",
   "metadata": {},
   "source": [
    " Q3. Determine the average rental duration for each film, considering films with similar lengths."
   ]
  },
  {
   "cell_type": "markdown",
   "id": "fb52716e-4bce-48d0-8bae-ec7841e155d9",
   "metadata": {},
   "source": [
    "Ans.\n",
    "\n",
    "SELECT \n",
    "\n",
    "    film_length,\n",
    "    AVG(rental_duration) AS average_rental_duration\n",
    "    \n",
    "FROM \n",
    "\n",
    "    films\n",
    "    \n",
    "JOIN \n",
    "\n",
    "    rentals ON films.film_id = rentals.film_id\n",
    "    \n",
    "GROUP BY \n",
    "\n",
    "    film_length\n",
    "    \n",
    "ORDER BY \n",
    "\n",
    "    film_length;\n"
   ]
  },
  {
   "cell_type": "code",
   "execution_count": null,
   "id": "61664a7b-38d3-4c95-ae29-de8319fdb55a",
   "metadata": {},
   "outputs": [],
   "source": []
  },
  {
   "cell_type": "markdown",
   "id": "38aefb26-5e6c-4aec-9e7d-104b3714e3ed",
   "metadata": {},
   "source": [
    " Q4. Identify the top 3 films in each category based on their rental counts."
   ]
  },
  {
   "cell_type": "markdown",
   "id": "6644ef09-d87b-4081-85b0-08d537718132",
   "metadata": {},
   "source": [
    "Ans. \n",
    "\n",
    "WITH RankedFilms AS (\n",
    "\n",
    "    SELECT \n",
    "    \n",
    "        f.film_id,\n",
    "        f.title,\n",
    "        f.category_id,\n",
    "        c.category_name,\n",
    "        COUNT(r.rental_id) AS rental_count,\n",
    "        ROW_NUMBER() OVER (PARTITION BY f.category_id ORDER BY COUNT(r.rental_id) DESC) AS rank\n",
    "        \n",
    "    FROM \n",
    "    \n",
    "        films f\n",
    "        \n",
    "    JOIN \n",
    "    \n",
    "        rentals r ON f.film_id = r.film_id\n",
    "    JOIN \n",
    "    \n",
    "        categories c ON f.category_id = c.category_id\n",
    "        \n",
    "    GROUP BY \n",
    "        f.film_id, f.title, f.category_id, c.category_name\n",
    ")\n",
    "SELECT \n",
    "\n",
    "    film_id,\n",
    "    title,\n",
    "    category_name,\n",
    "    rental_count\n",
    "FROM \n",
    "\n",
    "    RankedFilms\n",
    "WHERE \n",
    "\n",
    "\n",
    "    rank <= 3\n",
    "    \n",
    "ORDER BY \n",
    "\n",
    "    category_name, rank;\n"
   ]
  },
  {
   "cell_type": "code",
   "execution_count": null,
   "id": "65eadded-6d67-486a-b875-e0785585823a",
   "metadata": {},
   "outputs": [],
   "source": []
  },
  {
   "cell_type": "markdown",
   "id": "6ad565fe-1e51-477b-8343-ae6a591f975e",
   "metadata": {},
   "source": [
    " Q5. Calculate the difference in rental counts between each customer's total rentals and the average rentals\n",
    " across all customers."
   ]
  },
  {
   "cell_type": "markdown",
   "id": "c0761b0f-334d-4569-876b-b68d4e7ddec8",
   "metadata": {},
   "source": [
    "Ans.\n",
    "\n",
    "WITH CustomerRentalCounts AS (\n",
    "\n",
    "    SELECT \n",
    "    \n",
    "        customer_id,\n",
    "        COUNT(rental_id) AS total_rentals\n",
    "        \n",
    "    FROM \n",
    "        rentals\n",
    "    GROUP BY \n",
    "        customer_id\n",
    "),\n",
    "\n",
    "AverageRentalCount AS (\n",
    "\n",
    "    SELECT \n",
    "        AVG(total_rentals) AS avg_rentals\n",
    "    FROM \n",
    "        CustomerRentalCounts\n",
    ")\n",
    "\n",
    "SELECT \n",
    "\n",
    "    c.customer_id,\n",
    "    c.total_rentals,\n",
    "    a.avg_rentals,\n",
    "    c.total_rentals - a.avg_rentals AS rental_difference\n",
    "    \n",
    "FROM \n",
    "\n",
    "    CustomerRentalCounts c\n",
    "    \n",
    "CROSS JOIN \n",
    "\n",
    "    AverageRentalCount a\n",
    "    \n",
    "ORDER BY \n",
    "\n",
    "    rental_difference DESC;\n"
   ]
  },
  {
   "cell_type": "code",
   "execution_count": null,
   "id": "b9e82d87-c544-4221-b412-524e271ff8ad",
   "metadata": {},
   "outputs": [],
   "source": []
  },
  {
   "cell_type": "markdown",
   "id": "07214833-dc1a-4015-8844-d28b77ccf016",
   "metadata": {},
   "source": [
    "Q6. Find the monthly revenue trend for the entire rental store over time."
   ]
  },
  {
   "cell_type": "markdown",
   "id": "9c555962-bdff-42c0-a1c1-2403a05a4153",
   "metadata": {},
   "source": [
    "Ans. \n",
    "\n",
    "SELECT \n",
    "\n",
    "    YEAR(rental_date) AS year,\n",
    "    MONTH(rental_date) AS month,\n",
    "    SUM(rental_amount) AS total_revenue\n",
    "    \n",
    "FROM \n",
    "\n",
    "    rentals\n",
    "    \n",
    "GROUP BY \n",
    "\n",
    "    YEAR(rental_date), MONTH(rental_date)\n",
    "    \n",
    "ORDER BY \n",
    "\n",
    "    year, month;\n"
   ]
  },
  {
   "cell_type": "code",
   "execution_count": null,
   "id": "274512eb-f1ef-49ad-a08a-ceba0a7e2a83",
   "metadata": {},
   "outputs": [],
   "source": []
  },
  {
   "cell_type": "markdown",
   "id": "9c9f515c-bbc1-4154-9efc-453c46f76c22",
   "metadata": {},
   "source": [
    " Q7. Identify the customers whose total spending on rentals falls within the top 20% of all customers."
   ]
  },
  {
   "cell_type": "markdown",
   "id": "e5a81ab5-dbae-4d3f-9d6b-957b14a403ae",
   "metadata": {},
   "source": [
    "Ans. \n",
    "\n",
    "WITH CustomerSpending AS (\n",
    "\n",
    "    SELECT \n",
    "        customer_id,\n",
    "        SUM(rental_amount) AS total_spent\n",
    "    FROM \n",
    "        rentals\n",
    "    GROUP BY \n",
    "        customer_id\n",
    "),\n",
    "\n",
    "CustomerRank AS (\n",
    "\n",
    "    SELECT \n",
    "        customer_id,\n",
    "        total_spent,\n",
    "        PERCENT_RANK() OVER (ORDER BY total_spent DESC) AS percentile_rank\n",
    "    FROM \n",
    "        CustomerSpending\n",
    ")\n",
    "\n",
    "SELECT \n",
    "\n",
    "    customer_id,\n",
    "    total_spent\n",
    "FROM \n",
    "\n",
    "    CustomerRank\n",
    "    \n",
    "WHERE \n",
    "\n",
    "    percentile_rank <= 0.2\n",
    "    \n",
    "ORDER BY \n",
    "\n",
    "    total_spent DESC;\n"
   ]
  },
  {
   "cell_type": "code",
   "execution_count": null,
   "id": "145f2c2f-0105-4fb4-b282-5a0a89011878",
   "metadata": {},
   "outputs": [],
   "source": []
  },
  {
   "cell_type": "markdown",
   "id": "eb54d7e4-7326-4549-b2d3-fb846608de0f",
   "metadata": {},
   "source": [
    " Q8. Calculate the running total of rentals per category, ordered by rental count."
   ]
  },
  {
   "cell_type": "markdown",
   "id": "32e7cdf2-a75d-4bd4-a140-6eac926e7501",
   "metadata": {},
   "source": [
    "Ans.\n",
    "\n",
    "WITH CategoryRentalCounts AS (\n",
    "\n",
    "    SELECT \n",
    "        f.category_id,\n",
    "        c.category_name,\n",
    "        COUNT(r.rental_id) AS rental_count\n",
    "        \n",
    "    FROM \n",
    "        films f\n",
    "    JOIN \n",
    "        rentals r ON f.film_id = r.film_id\n",
    "    JOIN \n",
    "        categories c ON f.category_id = c.category_id\n",
    "    GROUP BY \n",
    "        f.category_id, c.category_name\n",
    ")\n",
    "\n",
    "SELECT \n",
    "\n",
    "    category_name,\n",
    "    rental_count,\n",
    "    SUM(rental_count) OVER (ORDER BY rental_count DESC) AS running_total\n",
    "    \n",
    "FROM \n",
    "\n",
    "    CategoryRentalCounts\n",
    "    \n",
    "ORDER BY \n",
    "\n",
    "    rental_count DESC;\n"
   ]
  },
  {
   "cell_type": "code",
   "execution_count": null,
   "id": "99907b6a-09d3-451d-98bd-abe4c5b58666",
   "metadata": {},
   "outputs": [],
   "source": []
  },
  {
   "cell_type": "markdown",
   "id": "b85d429e-49fd-47bf-ac74-ae904bcfae98",
   "metadata": {},
   "source": [
    " Q9. Find the films that have been rented less than the average rental count for their respective categories."
   ]
  },
  {
   "cell_type": "markdown",
   "id": "41405a23-9bdc-4c6a-a3a0-b67741d1b6da",
   "metadata": {},
   "source": [
    "Ans.\n",
    "\n",
    "WITH CategoryRentalCounts AS (\n",
    "\n",
    "    SELECT \n",
    "        f.film_id,\n",
    "        f.title,\n",
    "        f.category_id,\n",
    "        c.category_name,\n",
    "        COUNT(r.rental_id) AS rental_count\n",
    "        \n",
    "    FROM \n",
    "        films f\n",
    "    JOIN \n",
    "        rentals r ON f.film_id = r.film_id\n",
    "    JOIN \n",
    "        categories c ON f.category_id = c.category_id\n",
    "    GROUP BY \n",
    "        f.film_id, f.title, f.category_id, c.category_name\n",
    "),\n",
    "\n",
    "CategoryAvgRentalCount AS (\n",
    "\n",
    "    SELECT \n",
    "        category_id,\n",
    "        AVG(rental_count) AS avg_rental_count\n",
    "        \n",
    "    FROM \n",
    "    \n",
    "        CategoryRentalCounts\n",
    "    GROUP BY \n",
    "        category_id\n",
    ")\n",
    "\n",
    "SELECT \n",
    "\n",
    "    f.film_id,\n",
    "    f.title,\n",
    "    c.category_name,\n",
    "    r.rental_count,\n",
    "    a.avg_rental_count\n",
    "    \n",
    "FROM \n",
    "\n",
    "    CategoryRentalCounts r\n",
    "JOIN \n",
    "\n",
    "    CategoryAvgRentalCount a ON r.category_id = a.category_id\n",
    "JOIN \n",
    "\n",
    "    films f ON r.film_id = f.film_id\n",
    "WHERE \n",
    "\n",
    "    r.rental_count < a.avg_rental_count\n",
    "ORDER BY \n",
    "\n",
    "    r.category_name, r.rental_count;\n"
   ]
  },
  {
   "cell_type": "code",
   "execution_count": null,
   "id": "af7aa86b-444c-497e-bd08-19fd088a53a2",
   "metadata": {},
   "outputs": [],
   "source": []
  },
  {
   "cell_type": "markdown",
   "id": "01a2665e-68a7-45d3-a62f-bd320af7e09f",
   "metadata": {},
   "source": [
    " Q10. Identify the top 5 months with the highest revenue and display the revenue generated in each month."
   ]
  },
  {
   "cell_type": "markdown",
   "id": "b71f0f55-8070-4d67-8fbf-de74ee7fced7",
   "metadata": {},
   "source": [
    "Ans.\n",
    "\n",
    "SELECT \n",
    "\n",
    "    YEAR(rental_date) AS year,\n",
    "    MONTH(rental_date) AS month,\n",
    "    SUM(rental_amount) AS total_revenue\n",
    "    \n",
    "FROM \n",
    "\n",
    "    rentals\n",
    "    \n",
    "GROUP BY \n",
    "\n",
    "    YEAR(rental_date), MONTH(rental_date)\n",
    "ORDER BY \n",
    "\n",
    "    total_revenue DESC\n",
    "    \n",
    "LIMIT 5;\n"
   ]
  },
  {
   "cell_type": "code",
   "execution_count": null,
   "id": "9bfc9b89-cbeb-4646-a48b-a0abbc8ecda3",
   "metadata": {},
   "outputs": [],
   "source": []
  },
  {
   "cell_type": "markdown",
   "id": "54d26851-2496-4150-98b6-20507e9d66d3",
   "metadata": {},
   "source": [
    "## Normalisation & CTE"
   ]
  },
  {
   "cell_type": "code",
   "execution_count": null,
   "id": "89e6139a-f232-4917-8225-f97726373c84",
   "metadata": {},
   "outputs": [],
   "source": []
  },
  {
   "cell_type": "markdown",
   "id": "77d9c96e-b48c-4923-820a-7a58c7ce4fe5",
   "metadata": {},
   "source": [
    " 1. First Normal Form (1NF):\n",
    " a. Identify a table in the Sakila database that violates 1NF. Explain how you would normalize it to achieve 1NF"
   ]
  },
  {
   "cell_type": "markdown",
   "id": "a12e622f-83c9-4846-b09b-ea31b74de94c",
   "metadata": {},
   "source": [
    "Ans. In the context of the Sakila database, tables typically violate First Normal Form (1NF) when they contain repeating groups or multiple values in a single column. A good example of this is the film_actor table, which has multiple actors per film. However, this table doesn't violate 1NF in its structure, but we will analyze it for normalization concepts.\n",
    "\n",
    "A clearer violation can often be seen in the address table when it stores multiple contact numbers or addresses in a single field (if this was the case).\n",
    "\n",
    "For illustration, let's assume a hypothetical table customer_contact_info that violates 1NF due to multiple phone numbers stored in a single field:"
   ]
  },
  {
   "cell_type": "markdown",
   "id": "8b2c6f8a-7199-4485-bfe3-f4cc0f0d90bb",
   "metadata": {},
   "source": [
    "Summary:\n",
    "The original table violated 1NF because it had a repeating group of values (multiple phone numbers in a single column).\n",
    "After normalization, the table satisfies 1NF because all columns contain atomic values, and each row is unique based on the combination of customer_id and phone_number.\n",
    "This is a simple example, but the principle applies to any situation where a column holds multiple values that need to be split into separate rows to achieve 1NF."
   ]
  },
  {
   "cell_type": "markdown",
   "id": "89c847b8-ce68-47f0-8753-602f90bfd942",
   "metadata": {},
   "source": []
  },
  {
   "cell_type": "markdown",
   "id": "c7ff94a5-25bb-4a55-8619-4f6ed5f69080",
   "metadata": {},
   "source": [
    " 2. Second Normal Form (2NF): a. Choose a table in Sakila and describe how you would determine whether it is in 2NF. \n",
    " If it violates 2NF, explain the steps to normalize it."
   ]
  },
  {
   "cell_type": "markdown",
   "id": "4b1caf69-b9b9-40c6-91da-c49c52bee388",
   "metadata": {},
   "source": [
    "Ans. A table is in Second Normal Form (2NF) if:\n",
    "\n",
    "It is already in First Normal Form (1NF).\n",
    "It has no partial dependency; that is, no non-key column is dependent on only part of a composite primary key. In other words, if a table has a composite primary key (a key made of more than one column), all non-key columns must depend on the entire key, not just part of it."
   ]
  },
  {
   "cell_type": "markdown",
   "id": "9ecceee8-4024-4748-9f0c-c870154462ff",
   "metadata": {},
   "source": [
    "The film_actor table, as originally designed, is already in 2NF because it doesn't have non-key attributes, and thus there are no partial dependencies.\n",
    "A modified version of the table with non-key attributes like actor_name and film_title would violate 2NF because these attributes depend only on part of the composite primary key.\n",
    "The solution to normalize the table would involve creating separate tables for actors and films, linking them with the film_actor table. This eliminates partial dependencies and ensures the table meets 2NF."
   ]
  },
  {
   "cell_type": "code",
   "execution_count": null,
   "id": "5e5e1df5-1467-4728-b695-cfdfd8d632d2",
   "metadata": {},
   "outputs": [],
   "source": []
  },
  {
   "cell_type": "markdown",
   "id": "9d8685d1-f6c9-4f00-8fb8-217d290143d3",
   "metadata": {},
   "source": [
    " 3. Third Normal Form (3NF): a. Identify a table in Sakila that violates 3NF. Describe the transitive dependencies\n",
    "present and outline the steps to normalize the table to 3NF."
   ]
  },
  {
   "cell_type": "markdown",
   "id": "1bd9554b-75cd-4677-b467-8b44b26e3595",
   "metadata": {},
   "source": [
    "Ans. A table is in Third Normal Form (3NF) if:\n",
    "\n",
    "It is in Second Normal Form (2NF).\n",
    "\n",
    "It has no transitive dependencies, meaning non-key columns should not depend on other non-key columns.\n",
    "\n",
    "The original customer table violated 3NF due to transitive dependencies: store_name depends on store_id, and address and city depend on address_id.\n",
    "To normalize to 3NF, we created separate store and address tables, eliminating the transitive dependencies by ensuring that non-key columns are dependent only on the primary key.\n"
   ]
  },
  {
   "cell_type": "code",
   "execution_count": null,
   "id": "bc02c57a-5151-46ea-915b-8fce7c431178",
   "metadata": {},
   "outputs": [],
   "source": []
  },
  {
   "cell_type": "markdown",
   "id": "19315009-877c-45c9-9195-cfad1acd68f9",
   "metadata": {},
   "source": [
    " 4. Normalization Process:\n",
    " a. Take a specific table in Sakila and guide through the process of normalizing it from the initial  \n",
    " unnormalized form up to at least 2NF."
   ]
  },
  {
   "cell_type": "markdown",
   "id": "b38acaab-8036-4c9b-8cad-a6e43cb77d70",
   "metadata": {},
   "source": [
    "Ans. Unnormalized Form (UNF): The initial table contains repeating groups (multiple phone numbers in one column).\n",
    "\n",
    "1NF: The table is transformed to have atomic values by splitting phone numbers into separate rows.\n",
    "\n",
    "2NF: The table is normalized by removing partial dependencies (separating the customer details and phone numbers into different tables).\n",
    "\n",
    "At this point, the table is in 2NF because:\n",
    "\n",
    "There are no partial dependencies.\n",
    "Non-key columns are fully dependent on the entire primary key.\n",
    "This normalization process ensures the database is more efficient and reduces redundancy."
   ]
  },
  {
   "cell_type": "code",
   "execution_count": null,
   "id": "59ab163c-21ae-4582-a56a-799abc916fa8",
   "metadata": {},
   "outputs": [],
   "source": []
  },
  {
   "cell_type": "markdown",
   "id": "8d8c491a-394b-4533-89ff-df6d63df9b2f",
   "metadata": {},
   "source": [
    " 5. CTE Basics:\n",
    " a. Write a query using a CTE to retrieve the distinct list of actor names and the number of films they \n",
    " have acted in from the actor and film_actor tables."
   ]
  },
  {
   "cell_type": "markdown",
   "id": "1025aec2-f8d4-4f66-994d-a754ac2f3742",
   "metadata": {},
   "source": [
    "Ans.\n",
    "\n",
    "WITH ActorFilmCount AS (\n",
    "\n",
    "    SELECT \n",
    "        a.first_name || ' ' || a.last_name AS actor_name,\n",
    "        COUNT(fa.film_id) AS num_films\n",
    "    FROM actor a\n",
    "    JOIN film_actor fa ON a.actor_id = fa.actor_id\n",
    "    GROUP BY a.actor_id\n",
    ")\n",
    "\n",
    "SELECT \n",
    "\n",
    "    actor_name,\n",
    "    num_films\n",
    "    \n",
    "FROM ActorFilmCount\n",
    "\n",
    "ORDER BY num_films DESC;\n"
   ]
  },
  {
   "cell_type": "code",
   "execution_count": null,
   "id": "c144c347-39c7-479e-8b4c-4d411d08e90a",
   "metadata": {},
   "outputs": [],
   "source": []
  },
  {
   "cell_type": "markdown",
   "id": "90da150b-467d-4577-8430-8a5ee0714206",
   "metadata": {},
   "source": [
    "Q6. CTE with Joins:\n",
    "a. Create a CTE that combines information from the film and language tables to display the film title, \n",
    "language name, and rental rate"
   ]
  },
  {
   "cell_type": "markdown",
   "id": "576b3fa4-afd3-4b33-b1b9-3ece6abae54c",
   "metadata": {},
   "source": [
    "Ans. \n",
    "\n",
    "WITH FilmLanguageInfo AS (\n",
    "\n",
    "    SELECT \n",
    "        f.title AS film_title,\n",
    "        l.name AS language_name,\n",
    "        f.rental_rate\n",
    "        \n",
    "    FROM film f\n",
    "    JOIN language l ON f.language_id = l.language_id\n",
    ")\n",
    "\n",
    "SELECT \n",
    "\n",
    "    film_title,\n",
    "    language_name,\n",
    "    rental_rate\n",
    "    \n",
    "FROM FilmLanguageInfo\n",
    "\n",
    "ORDER BY film_title;\n"
   ]
  },
  {
   "cell_type": "code",
   "execution_count": null,
   "id": "49244dea-bc6a-4d7f-a95e-cf55b5239209",
   "metadata": {},
   "outputs": [],
   "source": []
  },
  {
   "cell_type": "markdown",
   "id": "b322d146-a4a7-47aa-9007-0b46a9557650",
   "metadata": {},
   "source": [
    "Q7  CTE for Aggregation:\n",
    "a. Write a query using a CTE to find the total revenue generated by each customer (sum of payments) \n",
    " from the customer and payment tables."
   ]
  },
  {
   "cell_type": "markdown",
   "id": "7c26470a-b43a-46c2-a001-29a9461f29d3",
   "metadata": {},
   "source": [
    "Ans. \n",
    "\n",
    "WITH CustomerRevenue AS (\n",
    "\n",
    "    SELECT \n",
    "        c.customer_id,\n",
    "        c.first_name || ' ' || c.last_name AS customer_name,\n",
    "        SUM(p.amount) AS total_revenue\n",
    "    FROM customer c\n",
    "    JOIN payment p ON c.customer_id = p.customer_id\n",
    "    GROUP BY c.customer_id\n",
    ")\n",
    "SELECT \n",
    "\n",
    "    customer_name,\n",
    "    total_revenue\n",
    "    \n",
    "FROM CustomerRevenue\n",
    "\n",
    "ORDER BY total_revenue DESC;\n"
   ]
  },
  {
   "cell_type": "code",
   "execution_count": null,
   "id": "57103b0d-ea4c-4521-b931-3c26f63e3e57",
   "metadata": {},
   "outputs": [],
   "source": []
  },
  {
   "cell_type": "markdown",
   "id": "c6231ef8-fe9b-4f86-8006-257374eefd1a",
   "metadata": {},
   "source": [
    "Q8 CTE with Window Functions:\n",
    " a. Utilize a CTE with a window function to rank films based on their rental duration from the film table"
   ]
  },
  {
   "cell_type": "markdown",
   "id": "856a0d34-074b-47c0-acd5-3d931723fe4a",
   "metadata": {},
   "source": [
    "Ans. \n",
    "\n",
    "WITH FilmRank AS (\n",
    "\n",
    "    SELECT \n",
    "        f.title AS film_title,\n",
    "        f.rental_duration,\n",
    "        RANK() OVER (ORDER BY f.rental_duration DESC) AS rental_rank\n",
    "    FROM film f\n",
    ")\n",
    "\n",
    "SELECT \n",
    "\n",
    "    film_title,\n",
    "    rental_duration,\n",
    "    rental_rank\n",
    "    \n",
    "FROM FilmRank\n",
    "\n",
    "ORDER BY rental_rank;\n"
   ]
  },
  {
   "cell_type": "code",
   "execution_count": null,
   "id": "c8084111-da08-45d3-b466-4eae987135ee",
   "metadata": {},
   "outputs": [],
   "source": []
  },
  {
   "cell_type": "markdown",
   "id": "de3b75cc-3d6c-47bd-8d18-8e1d135cbfe4",
   "metadata": {},
   "source": [
    "Q9 CTE and Filtering:\n",
    " a. Create a CTE to list customers who have made more than two rentals, and then join this CTE with the \n",
    "customer table to retrieve additional customer details."
   ]
  },
  {
   "cell_type": "markdown",
   "id": "f1e1264a-2755-445d-8f41-7e3739ff0970",
   "metadata": {},
   "source": [
    "Ans\n",
    "\n",
    "WITH CustomerRentals AS (\n",
    "\n",
    "    SELECT \n",
    "        c.customer_id,\n",
    "        COUNT(r.rental_id) AS rental_count\n",
    "    FROM customer c\n",
    "    JOIN rental r ON c.customer_id = r.customer_id\n",
    "    GROUP BY c.customer_id\n",
    "    HAVING COUNT(r.rental_id) > 2\n",
    ")\n",
    "\n",
    "SELECT \n",
    "\n",
    "    c.customer_id,\n",
    "    c.first_name,\n",
    "    c.last_name,\n",
    "    c.email,\n",
    "    cr.rental_count\n",
    "    \n",
    "FROM CustomerRentals cr\n",
    "\n",
    "JOIN customer c ON cr.customer_id = c.customer_id\n",
    "\n",
    "ORDER BY cr.rental_count DESC;\n"
   ]
  },
  {
   "cell_type": "markdown",
   "id": "8e46279f-be97-4243-aaa9-f82066822f4a",
   "metadata": {},
   "source": []
  },
  {
   "cell_type": "markdown",
   "id": "56794390-05e5-487d-b63d-9a7e3f19c6a5",
   "metadata": {},
   "source": [
    "Q10 CTE for Date Calculations:\n",
    " a. Write a query using a CTE to find the total number of rentals made each month, considering the \n",
    "rental_date from the rental table"
   ]
  },
  {
   "cell_type": "markdown",
   "id": "6436148f-d201-43e8-ac40-ebdc34095109",
   "metadata": {},
   "source": [
    "Ans. \n",
    "WITH MonthlyRentals AS (\n",
    "\n",
    "    SELECT \n",
    "        EXTRACT(YEAR FROM r.rental_date) AS rental_year,\n",
    "        EXTRACT(MONTH FROM r.rental_date) AS rental_month,\n",
    "        COUNT(r.rental_id) AS total_rentals\n",
    "    FROM rental r\n",
    "    GROUP BY rental_year, rental_month\n",
    ")\n",
    "\n",
    "SELECT \n",
    "\n",
    "    rental_year,\n",
    "    rental_month,\n",
    "    total_rentals\n",
    "    \n",
    "FROM MonthlyRentals\n",
    "\n",
    "ORDER BY rental_year, rental_month;\n"
   ]
  },
  {
   "cell_type": "code",
   "execution_count": null,
   "id": "184b96f0-2e11-41f9-b451-75f8b7774e83",
   "metadata": {},
   "outputs": [],
   "source": []
  },
  {
   "cell_type": "markdown",
   "id": "2301599f-da8a-4876-84a2-f25d8c1c39c9",
   "metadata": {},
   "source": [
    "Q11 CTE and Self-Join:\n",
    " a. Create a CTE to generate a report showing pairs of actors who have appeared in the same film \n",
    "together, using the film_actor table."
   ]
  },
  {
   "cell_type": "markdown",
   "id": "b612db8b-9d8b-4c21-87cf-390925889764",
   "metadata": {},
   "source": [
    "Ans.\n",
    "\n",
    "WITH ActorPairs AS (\n",
    "\n",
    "    SELECT \n",
    "        fa1.actor_id AS actor1_id,\n",
    "        fa2.actor_id AS actor2_id,\n",
    "        fa1.film_id\n",
    "    FROM film_actor fa1\n",
    "    JOIN film_actor fa2 \n",
    "        ON fa1.film_id = fa2.film_id \n",
    "        AND fa1.actor_id < fa2.actor_id  -- to avoid duplicate pairs\n",
    ")\n",
    "\n",
    "SELECT \n",
    "\n",
    "    a1.first_name || ' ' || a1.last_name AS actor1_name,\n",
    "    a2.first_name || ' ' || a2.last_name AS actor2_name,\n",
    "    ap.film_id\n",
    "    \n",
    "FROM ActorPairs ap\n",
    "\n",
    "JOIN actor a1 ON ap.actor1_id = a1.actor_id\n",
    "\n",
    "JOIN actor a2 ON ap.actor2_id = a2.actor_id\n",
    "\n",
    "ORDER BY ap.film_id;\n"
   ]
  },
  {
   "cell_type": "code",
   "execution_count": null,
   "id": "63837cbf-593a-47ff-80db-b39d3066c742",
   "metadata": {},
   "outputs": [],
   "source": []
  },
  {
   "cell_type": "markdown",
   "id": "41e8b194-8a86-4179-a2c1-4ca815d15d4f",
   "metadata": {},
   "source": [
    "12. CTE for Recursive Search:\n",
    " a. Implement a recursive CTE to find all employees in the staff table who report to a specific manager, \n",
    "considering the reports_to column"
   ]
  },
  {
   "cell_type": "markdown",
   "id": "4547f1a6-7489-47eb-83cd-4e0ce51c0661",
   "metadata": {},
   "source": [
    "Ans.\n",
    "\n",
    "WITH RECURSIVE EmployeeHierarchy AS (\n",
    "\n",
    "    -- Anchor member: Select the manager (for example, manager with staff_id = 1)\n",
    "    SELECT \n",
    "        s.staff_id,\n",
    "        s.first_name || ' ' || s.last_name AS employee_name,\n",
    "        s.reports_to\n",
    "    FROM staff s\n",
    "    WHERE s.staff_id = 1  -- Replace 1 with the desired manager's staff_id\n",
    "\n",
    "    UNION ALL\n",
    "\n",
    "    -- Recursive member: Select employees who report to the employees from the previous step\n",
    "    SELECT \n",
    "        s.staff_id,\n",
    "        s.first_name || ' ' || s.last_name AS employee_name,\n",
    "        s.reports_to\n",
    "    FROM staff s\n",
    "    INNER JOIN EmployeeHierarchy eh ON s.reports_to = eh.staff_id\n",
    ")\n",
    "\n",
    "SELECT \n",
    "\n",
    "    staff_id,\n",
    "    employee_name\n",
    "    \n",
    "FROM EmployeeHierarchy\n",
    "\n",
    "\n",
    "ORDER BY employee_name;\n"
   ]
  },
  {
   "cell_type": "code",
   "execution_count": null,
   "id": "32e3103e-cbf0-4e3d-8e1f-eaa969abdc06",
   "metadata": {},
   "outputs": [],
   "source": []
  }
 ],
 "metadata": {
  "kernelspec": {
   "display_name": "Python 3 (ipykernel)",
   "language": "python",
   "name": "python3"
  },
  "language_info": {
   "codemirror_mode": {
    "name": "ipython",
    "version": 3
   },
   "file_extension": ".py",
   "mimetype": "text/x-python",
   "name": "python",
   "nbconvert_exporter": "python",
   "pygments_lexer": "ipython3",
   "version": "3.12.4"
  }
 },
 "nbformat": 4,
 "nbformat_minor": 5
}
